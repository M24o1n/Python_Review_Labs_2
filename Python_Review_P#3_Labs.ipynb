{
 "cells": [
  {
   "cell_type": "markdown",
   "id": "2d4a0e4d",
   "metadata": {},
   "source": [
    "## Lab1-Lists\n",
    "Given the following list : [5, 4, 17, 19, 30, 2, 7, 10, 45]\n",
    "- Q1: Write a Python program to sum all the items in the list.\n",
    "- Q2: Write a Python program to get the largest number from the list.\n",
    "- Q3: Use list comprehension, create a new list from the above list containing only even numbers.\n",
    "- Q4: Use list slicing to get a new list from the previous list starting from the start to the 5th element in the list."
   ]
  },
  {
   "cell_type": "code",
   "execution_count": 8,
   "id": "88e0fe9c",
   "metadata": {},
   "outputs": [],
   "source": [
    "lst = [5, 4, 17, 19, 30, 2, 7, 10, 45]\n",
    "#Q1:\n",
    "sum = sum(lst)\n",
    "#Q2:\n",
    "largest = max(lst)\n",
    "#Q3: \n",
    "even = [i for i in lst if i % 2 == 0]\n",
    "#Q4: \n",
    "sliced = lst[:5]"
   ]
  },
  {
   "cell_type": "markdown",
   "id": "4df61e4c",
   "metadata": {},
   "source": [
    "## Lab2-Dictionary\n",
    "\n",
    "Build a phone book program that receives the phone number, and returns the name of the owner. \n",
    "You can follow the table below:\n",
    "\n",
    "| Name    | Number      |\n",
    "| -------- | ---------- |\n",
    "| Amal     | 1111111111 |\n",
    "| Mohammed | 2222222222 |\n",
    "| Khadijah | 3333333333 |\n",
    "| Abdullah  | 4444444444 |\n",
    "| Rawan    | 5555555555 |\n",
    "| Faisal   | 6666666666 |\n",
    "| Layla    | 7777777777 |\n",
    "\n",
    "\n",
    "- If the number exists, print the owner. Otherwise, print \"Sorry, the number is not found\".\n",
    "- If the number is less or more than 10 numbers, print \"This is invalid number\".\n",
    "- If the number contains letters or symbols, print \"This is invalid number\"."
   ]
  },
  {
   "cell_type": "code",
   "execution_count": 2,
   "id": "7d53c06c",
   "metadata": {},
   "outputs": [],
   "source": [
    "phone_book = {\n",
    "    \"1111111111\": \"Amal\",\n",
    "    \"2222222222\": \"Mohammed\",\n",
    "    \"3333333333\": \"Khadijah\",\n",
    "    \"4444444444\": \"Abdullah\",\n",
    "    \"5555555555\": \"Rawan\",\n",
    "    \"6666666666\": \"Faisal\",\n",
    "    \"7777777777\": \"Layla\"\n",
    "}"
   ]
  },
  {
   "cell_type": "code",
   "execution_count": 5,
   "id": "ffdffaec",
   "metadata": {},
   "outputs": [],
   "source": [
    "def find_owner(phone_number):\n",
    "    if not phone_number.isdigit() or len(phone_number) != 10:\n",
    "        print(\"This is an invalid number.\")\n",
    "        return\n",
    "    if phone_number in phone_book:\n",
    "        print(\"Owner:\", phone_book[phone_number])\n",
    "    else:\n",
    "        print(\"Sorry, the number is not found.\")"
   ]
  },
  {
   "cell_type": "code",
   "execution_count": 7,
   "id": "93b05ba5",
   "metadata": {},
   "outputs": [
    {
     "name": "stdout",
     "output_type": "stream",
     "text": [
      "Owner: Mohammed\n"
     ]
    }
   ],
   "source": [
    "number = input(\"Enter the phone number: \")\n",
    "find_owner(number)"
   ]
  },
  {
   "cell_type": "code",
   "execution_count": 11,
   "id": "5adf6bdf",
   "metadata": {},
   "outputs": [
    {
     "name": "stdout",
     "output_type": "stream",
     "text": [
      "Item cost: 12.0, Total cost so far: 12.0\n",
      "Item cost: 6.0, Total cost so far: 18.0\n",
      "Item cost: 66.0, Total cost so far: 66.0\n",
      "Invalid input. Please enter a valid value.\n"
     ]
    }
   ],
   "source": [
    "while True:\n",
    "    try:\n",
    "        name = input(\"Please enter your name: \")\n",
    "        age = int(input(\"Please enter your age: \"))\n",
    "\n",
    "        if 0 <= age <= 6:\n",
    "            print(\"Kid\")\n",
    "        elif age < 0:\n",
    "            print(\"Wrong age value\")\n",
    "        else:\n",
    "            total_cost = 0\n",
    "            num_items = int(input(\"Please enter the number of items you want to buy: \"))\n",
    "\n",
    "            for i in range(num_items):\n",
    "                item_name = input(\"item name: \")\n",
    "                item_price = float(input(\"item price: \"))\n",
    "                item_quantity = int(input(\"item quantity: \"))\n",
    "                item_cost = item_price * item_quantity\n",
    "                total_cost += item_cost\n",
    "                print(f\"Item cost: {item_cost}, Total cost so far: {total_cost}\")\n",
    "\n",
    "            if total_cost > 200:\n",
    "                total_cost *= 0.8 \n",
    "\n",
    "    except ValueError:\n",
    "        print(\"Invalid input. Please enter the correct value type.\")\n",
    "\n",
    "    repeat = input(\"Do you want to repeat the process?\")\n",
    "    if repeat.lower() != 'yes':\n",
    "        break\n"
   ]
  }
 ],
 "metadata": {
  "kernelspec": {
   "display_name": "Python 3 (ipykernel)",
   "language": "python",
   "name": "python3"
  },
  "language_info": {
   "codemirror_mode": {
    "name": "ipython",
    "version": 3
   },
   "file_extension": ".py",
   "mimetype": "text/x-python",
   "name": "python",
   "nbconvert_exporter": "python",
   "pygments_lexer": "ipython3",
   "version": "3.11.2"
  }
 },
 "nbformat": 4,
 "nbformat_minor": 5
}
